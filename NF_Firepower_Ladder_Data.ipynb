{
 "cells": [
  {
   "cell_type": "code",
   "execution_count": 1,
   "metadata": {},
   "outputs": [
    {
     "name": "stderr",
     "output_type": "stream",
     "text": [
      "Loading required package: iterators\n",
      "\n",
      "Loading required package: parallel\n",
      "\n"
     ]
    }
   ],
   "source": [
    "library(Rcrawler)\n",
    "library(foreach)\n",
    "library(doParallel)\n",
    "library(scales)\n",
    "library(qdapRegex)"
   ]
  },
  {
   "cell_type": "code",
   "execution_count": 13,
   "metadata": {},
   "outputs": [
    {
     "data": {
      "text/html": [
       "'Chinese (Simplified)_China.936'"
      ],
      "text/latex": [
       "'Chinese (Simplified)\\_China.936'"
      ],
      "text/markdown": [
       "'Chinese (Simplified)_China.936'"
      ],
      "text/plain": [
       "[1] \"Chinese (Simplified)_China.936\""
      ]
     },
     "metadata": {},
     "output_type": "display_data"
    }
   ],
   "source": [
    "Sys.setlocale(\"LC_CTYPE\", locale=\"Chinese\")"
   ]
  },
  {
   "cell_type": "code",
   "execution_count": 14,
   "metadata": {},
   "outputs": [],
   "source": [
    "# parallel processing\n",
    "cores=detectCores()\n",
    "cl <- makeCluster(cores[1]-1) \n",
    "registerDoParallel(cl)"
   ]
  },
  {
   "cell_type": "code",
   "execution_count": 15,
   "metadata": {},
   "outputs": [
    {
     "ename": "ERROR",
     "evalue": "Error in {: task 1 failed - \"arguments imply differing number of rows: 8, 0\"\n",
     "output_type": "error",
     "traceback": [
      "Error in {: task 1 failed - \"arguments imply differing number of rows: 8, 0\"\nTraceback:\n",
      "1. foreach(i = 1:100, .combine = rbind) %dopar% {\n .     tempMatrix = scraper(s, i)\n .     tempMatrix\n . }",
      "2. e$fun(obj, substitute(ex), parent.frame(), e$data)"
     ]
    }
   ],
   "source": [
    "# Extract Webpage\n",
    "pattern <- c('tr+ tr td:nth-child(3)',\n",
    "             \"tr+ tr td:nth-child(4)\",\n",
    "             \"tr+ tr td:nth-child(6)\"\n",
    "             )\n",
    "\n",
    "pattern_names <- c(\"id\",\n",
    "                   \"total_atk\",\n",
    "                   \"highest_atk\"\n",
    "                   )\n",
    "\n",
    "scraper <- function(season,page){\n",
    "  target_url <- paste(\"https://club.kupaisky.com/plugin.php?id=jerrytek_ranksystem:ranking&seasonselect=season\",\n",
    "                      toString(season),\"&page=\",toString(page), sep = \"\")\n",
    "  web_content <- Rcrawler::ContentScraper(Url=target_url,\n",
    "                                          CssPatterns = pattern,\n",
    "                                          PatternsName = pattern_names, \n",
    "                                          ManyPerPattern = TRUE, \n",
    "                                          astext = TRUE, \n",
    "                                          asDataFrame = FALSE)\n",
    "  output <- as.data.frame(web_content)\n",
    "  return(output)\n",
    "}"
   ]
  },
  {
   "cell_type": "code",
   "execution_count": 51,
   "metadata": {},
   "outputs": [],
   "source": [
    "# Season 1\n",
    "season_1 <- foreach(i=1:151, .combine=rbind) %dopar% {\n",
    "  tempMatrix = scraper(1,i) \n",
    "  tempMatrix\n",
    "}\n",
    "season_1$total_atk <- as.numeric(gsub(\",\", \"\", season_1$total_atk))\n",
    "season_1$highest_atk <- as.numeric(gsub(\",\", \"\", season_1$highest_atk))\n",
    "f1 <- file(\"C:/Users/Felix/Box Sync/UW/R/firepower_season1.csv\", encoding = \"UTF-8\")\n",
    "write.csv(season_1, file = f1, row.names = FALSE)"
   ]
  },
  {
   "cell_type": "code",
   "execution_count": 54,
   "metadata": {},
   "outputs": [],
   "source": [
    "# Season 2\n",
    "season_2 <- foreach(i=1:135, .combine=rbind) %dopar% {\n",
    "  tempMatrix = scraper(2,i) \n",
    "  tempMatrix\n",
    "}\n",
    "season_2$total_atk <- as.numeric(gsub(\",\", \"\", season_2$total_atk))\n",
    "season_2$highest_atk <- as.numeric(gsub(\",\", \"\", season_2$highest_atk))\n",
    "f2 <- file(\"C:/Users/Felix/Box Sync/UW/R/firepower_season2.csv\", encoding = \"UTF-8\")\n",
    "write.csv(season_2, file = f2, row.names = FALSE)"
   ]
  },
  {
   "cell_type": "code",
   "execution_count": 59,
   "metadata": {},
   "outputs": [],
   "source": [
    "# Season 3\n",
    "season_3 <- foreach(i=1:142, .combine=rbind) %dopar% {\n",
    "  tempMatrix = scraper(3,i) \n",
    "  tempMatrix\n",
    "}\n",
    "season_3$total_atk <- as.numeric(gsub(\",\", \"\", season_3$total_atk))\n",
    "season_3$highest_atk <- as.numeric(gsub(\",\", \"\", season_3$highest_atk))\n",
    "f3 <- file(\"C:/Users/Felix/Box Sync/UW/R/firepower_season3.csv\", encoding = \"UTF-8\")\n",
    "write.csv(season_3, file = f3, row.names = FALSE)"
   ]
  },
  {
   "cell_type": "code",
   "execution_count": 64,
   "metadata": {},
   "outputs": [],
   "source": [
    "# Season 4\n",
    "season_4 <- foreach(i=1:130, .combine=rbind) %dopar% {\n",
    "  tempMatrix = scraper(4,i) \n",
    "  tempMatrix\n",
    "}\n",
    "season_4$total_atk <- as.numeric(gsub(\",\", \"\", season_4$total_atk))\n",
    "season_4$highest_atk <- as.numeric(gsub(\",\", \"\", season_4$highest_atk))\n",
    "f4 <- file(\"C:/Users/Felix/Box Sync/UW/R/firepower_season4.csv\", encoding = \"UTF-8\")\n",
    "write.csv(season_4, file = f4, row.names = FALSE)"
   ]
  },
  {
   "cell_type": "code",
   "execution_count": 66,
   "metadata": {},
   "outputs": [],
   "source": [
    "# Season 5\n",
    "season_5 <- foreach(i=1:127, .combine=rbind) %dopar% {\n",
    "  tempMatrix = scraper(5,i) \n",
    "  tempMatrix\n",
    "}\n",
    "season_5$total_atk <- as.numeric(gsub(\",\", \"\", season_5$total_atk))\n",
    "season_5$highest_atk <- as.numeric(gsub(\",\", \"\", season_5$highest_atk))\n",
    "f5 <- file(\"C:/Users/Felix/Box Sync/UW/R/firepower_season5.csv\", encoding = \"UTF-8\")\n",
    "write.csv(season_5, file = f5, row.names = FALSE)"
   ]
  },
  {
   "cell_type": "code",
   "execution_count": 69,
   "metadata": {},
   "outputs": [],
   "source": [
    "# Season 6\n",
    "season_6 <- foreach(i=1:124, .combine=rbind) %dopar% {\n",
    "  tempMatrix = scraper(6,i) \n",
    "  tempMatrix\n",
    "}\n",
    "season_6$total_atk <- as.numeric(gsub(\",\", \"\", season_6$total_atk))\n",
    "season_6$highest_atk <- as.numeric(gsub(\",\", \"\", season_6$highest_atk))\n",
    "f6 <- file(\"C:/Users/Felix/Box Sync/UW/R/firepower_season6.csv\", encoding = \"UTF-8\")\n",
    "write.csv(season_6, file = f6, row.names = FALSE)"
   ]
  },
  {
   "cell_type": "code",
   "execution_count": 71,
   "metadata": {},
   "outputs": [],
   "source": [
    "# Season 7\n",
    "season_7 <- foreach(i=1:134, .combine=rbind) %dopar% {\n",
    "  tempMatrix = scraper(7,i) \n",
    "  tempMatrix\n",
    "}\n",
    "season_7$total_atk <- as.numeric(gsub(\",\", \"\", season_7$total_atk))\n",
    "season_7$highest_atk <- as.numeric(gsub(\",\", \"\", season_7$highest_atk))\n",
    "f7 <- file(\"C:/Users/Felix/Box Sync/UW/R/firepower_season7.csv\", encoding = \"UTF-8\")\n",
    "write.csv(season_7, file = f7, row.names = FALSE)"
   ]
  },
  {
   "cell_type": "code",
   "execution_count": 78,
   "metadata": {},
   "outputs": [],
   "source": [
    "# Season 8\n",
    "season_8 <- foreach(i=1:170, .combine=rbind) %dopar% {\n",
    "  tempMatrix = scraper(8,i) \n",
    "  tempMatrix\n",
    "}\n",
    "season_8$total_atk <- as.numeric(gsub(\",\", \"\", season_8$total_atk))\n",
    "season_8$highest_atk <- as.numeric(gsub(\",\", \"\", season_8$highest_atk))\n",
    "f8 <- file(\"C:/Users/Felix/Box Sync/UW/R/firepower_season8.csv\", encoding = \"UTF-8\")\n",
    "write.csv(season_8, file = f8, row.names = FALSE)"
   ]
  },
  {
   "cell_type": "code",
   "execution_count": 80,
   "metadata": {},
   "outputs": [],
   "source": [
    "# Season 9\n",
    "season_9 <- foreach(i=1:150, .combine=rbind) %dopar% {\n",
    "  tempMatrix = scraper(9,i) \n",
    "  tempMatrix\n",
    "}\n",
    "season_9$total_atk <- as.numeric(gsub(\",\", \"\", season_9$total_atk))\n",
    "season_9$highest_atk <- as.numeric(gsub(\",\", \"\", season_9$highest_atk))\n",
    "f9 <- file(\"C:/Users/Felix/Box Sync/UW/R/firepower_season9.csv\", encoding = \"UTF-8\")\n",
    "write.csv(season_9, file = f9, row.names = FALSE)"
   ]
  },
  {
   "cell_type": "code",
   "execution_count": 86,
   "metadata": {},
   "outputs": [],
   "source": [
    "# Season 10\n",
    "season_10 <- foreach(i=1:136, .combine=rbind) %dopar% {\n",
    "  tempMatrix = scraper(10,i) \n",
    "  tempMatrix\n",
    "}\n",
    "season_10$total_atk <- as.numeric(gsub(\",\", \"\", season_10$total_atk))\n",
    "season_10$highest_atk <- as.numeric(gsub(\",\", \"\", season_10$highest_atk))\n",
    "f10 <- file(\"C:/Users/Felix/Box Sync/UW/R/firepower_season10.csv\", encoding = \"UTF-8\")\n",
    "write.csv(season_10, file = f10, row.names = FALSE)"
   ]
  },
  {
   "cell_type": "code",
   "execution_count": 88,
   "metadata": {},
   "outputs": [],
   "source": [
    "# Season 11\n",
    "season_11 <- foreach(i=1:126, .combine=rbind) %dopar% {\n",
    "  tempMatrix = scraper(11,i) \n",
    "  tempMatrix\n",
    "}\n",
    "season_11$total_atk <- as.numeric(gsub(\",\", \"\", season_11$total_atk))\n",
    "season_11$highest_atk <- as.numeric(gsub(\",\", \"\", season_11$highest_atk))\n",
    "f11 <- file(\"C:/Users/Felix/Box Sync/UW/R/firepower_season11.csv\", encoding = \"UTF-8\")\n",
    "write.csv(season_11, file = f11, row.names = FALSE)"
   ]
  },
  {
   "cell_type": "code",
   "execution_count": 90,
   "metadata": {},
   "outputs": [],
   "source": [
    "# Season 12\n",
    "season_12 <- foreach(i=1:107, .combine=rbind) %dopar% {\n",
    "  tempMatrix = scraper(12,i) \n",
    "  tempMatrix\n",
    "}\n",
    "season_12$total_atk <- as.numeric(gsub(\",\", \"\", season_12$total_atk))\n",
    "season_12$highest_atk <- as.numeric(gsub(\",\", \"\", season_12$highest_atk))\n",
    "f12 <- file(\"C:/Users/Felix/Box Sync/UW/R/firepower_season12.csv\", encoding = \"UTF-8\")\n",
    "write.csv(season_12, file = f12, row.names = FALSE)"
   ]
  },
  {
   "cell_type": "code",
   "execution_count": 91,
   "metadata": {
    "scrolled": false
   },
   "outputs": [
    {
     "name": "stdout",
     "output_type": "stream",
     "text": [
      "[1] 2670\n"
     ]
    },
    {
     "data": {
      "text/html": [
       "<table class=\"dataframe\">\n",
       "<caption>A data.frame: 2670 × 3</caption>\n",
       "<thead>\n",
       "\t<tr><th scope=col>id</th><th scope=col>total_atk</th><th scope=col>highest_atk</th></tr>\n",
       "\t<tr><th scope=col>&lt;chr&gt;</th><th scope=col>&lt;dbl&gt;</th><th scope=col>&lt;dbl&gt;</th></tr>\n",
       "</thead>\n",
       "<tbody>\n",
       "\t<tr><td>pp12         </td><td>85766686</td><td>420867</td></tr>\n",
       "\t<tr><td>pashi001     </td><td>70108862</td><td>384454</td></tr>\n",
       "\t<tr><td>odmr1        </td><td>59127993</td><td>386240</td></tr>\n",
       "\t<tr><td>kp01         </td><td>57952358</td><td>382669</td></tr>\n",
       "\t<tr><td>linhai12     </td><td>50832128</td><td>387042</td></tr>\n",
       "\t<tr><td>zjtz000000   </td><td>48273831</td><td>350442</td></tr>\n",
       "\t<tr><td>zxziihanying </td><td>45631699</td><td>381356</td></tr>\n",
       "\t<tr><td>gongyun      </td><td>44154872</td><td>321681</td></tr>\n",
       "\t<tr><td>quendil      </td><td>43755416</td><td>438748</td></tr>\n",
       "\t<tr><td>baozhu001    </td><td>41994186</td><td>372972</td></tr>\n",
       "\t<tr><td>kkndking     </td><td>40051905</td><td>398651</td></tr>\n",
       "\t<tr><td>huha9999     </td><td>35536058</td><td>488065</td></tr>\n",
       "\t<tr><td>aspid47      </td><td>35414751</td><td>329093</td></tr>\n",
       "\t<tr><td>a87415661    </td><td>35408884</td><td>352900</td></tr>\n",
       "\t<tr><td>z11285208    </td><td>35334414</td><td>373506</td></tr>\n",
       "\t<tr><td>torabin      </td><td>31262610</td><td>289692</td></tr>\n",
       "\t<tr><td>wswindy19811 </td><td>30978269</td><td>409453</td></tr>\n",
       "\t<tr><td>obie36       </td><td>30327652</td><td>399974</td></tr>\n",
       "\t<tr><td>daiyinjj     </td><td>28197449</td><td>404412</td></tr>\n",
       "\t<tr><td>marketender  </td><td>28093691</td><td>257598</td></tr>\n",
       "\t<tr><td>s2mm         </td><td>27895468</td><td>253667</td></tr>\n",
       "\t<tr><td>wjsh2020     </td><td>27040690</td><td>215192</td></tr>\n",
       "\t<tr><td>protosscarrie</td><td>26777826</td><td>184319</td></tr>\n",
       "\t<tr><td>hsx330136    </td><td>26541438</td><td>359505</td></tr>\n",
       "\t<tr><td>guanguanktv  </td><td>25941346</td><td>405139</td></tr>\n",
       "\t<tr><td>lysd         </td><td>25723581</td><td>330381</td></tr>\n",
       "\t<tr><td>holmes_eu    </td><td>25558312</td><td>324596</td></tr>\n",
       "\t<tr><td>wangle2020   </td><td>25545440</td><td>295892</td></tr>\n",
       "\t<tr><td>xylzhp       </td><td>25225845</td><td>250301</td></tr>\n",
       "\t<tr><td>ded111       </td><td>24884664</td><td>390078</td></tr>\n",
       "\t<tr><td>...</td><td>...</td><td>...</td></tr>\n",
       "\t<tr><td>zhd717         </td><td>0</td><td>0</td></tr>\n",
       "\t<tr><td>vector1        </td><td>0</td><td>0</td></tr>\n",
       "\t<tr><td>byss           </td><td>0</td><td>0</td></tr>\n",
       "\t<tr><td>hoppoushireikan</td><td>0</td><td>0</td></tr>\n",
       "\t<tr><td>terryguillermo </td><td>0</td><td>0</td></tr>\n",
       "\t<tr><td>drift0013      </td><td>0</td><td>0</td></tr>\n",
       "\t<tr><td>poker95        </td><td>0</td><td>0</td></tr>\n",
       "\t<tr><td>shatian1234    </td><td>0</td><td>0</td></tr>\n",
       "\t<tr><td>unosco         </td><td>0</td><td>0</td></tr>\n",
       "\t<tr><td>liurengao      </td><td>0</td><td>0</td></tr>\n",
       "\t<tr><td>burav4ik       </td><td>0</td><td>0</td></tr>\n",
       "\t<tr><td>hccshuai       </td><td>0</td><td>0</td></tr>\n",
       "\t<tr><td>georgeslacave70</td><td>0</td><td>0</td></tr>\n",
       "\t<tr><td>robbiemcd      </td><td>0</td><td>0</td></tr>\n",
       "\t<tr><td>qi7777qi       </td><td>0</td><td>0</td></tr>\n",
       "\t<tr><td>admin3350      </td><td>0</td><td>0</td></tr>\n",
       "\t<tr><td>ezd101         </td><td>0</td><td>0</td></tr>\n",
       "\t<tr><td>s012345        </td><td>0</td><td>0</td></tr>\n",
       "\t<tr><td>meatball520    </td><td>0</td><td>0</td></tr>\n",
       "\t<tr><td>dasbaum1991    </td><td>0</td><td>0</td></tr>\n",
       "\t<tr><td>kennyhuang14   </td><td>0</td><td>0</td></tr>\n",
       "\t<tr><td>satoshi1       </td><td>0</td><td>0</td></tr>\n",
       "\t<tr><td>alicardo       </td><td>0</td><td>0</td></tr>\n",
       "\t<tr><td>vagabond       </td><td>0</td><td>0</td></tr>\n",
       "\t<tr><td>teessideluke   </td><td>0</td><td>0</td></tr>\n",
       "\t<tr><td>mxychina       </td><td>0</td><td>0</td></tr>\n",
       "\t<tr><td>cremolino      </td><td>0</td><td>0</td></tr>\n",
       "\t<tr><td>gdi011         </td><td>0</td><td>0</td></tr>\n",
       "\t<tr><td>nemo0981       </td><td>0</td><td>0</td></tr>\n",
       "\t<tr><td>zc0526         </td><td>0</td><td>0</td></tr>\n",
       "</tbody>\n",
       "</table>\n"
      ],
      "text/latex": [
       "A data.frame: 2670 × 3\n",
       "\\begin{tabular}{lll}\n",
       " id & total\\_atk & highest\\_atk\\\\\n",
       " <chr> & <dbl> & <dbl>\\\\\n",
       "\\hline\n",
       "\t pp12          & 85766686 & 420867\\\\\n",
       "\t pashi001      & 70108862 & 384454\\\\\n",
       "\t odmr1         & 59127993 & 386240\\\\\n",
       "\t kp01          & 57952358 & 382669\\\\\n",
       "\t linhai12      & 50832128 & 387042\\\\\n",
       "\t zjtz000000    & 48273831 & 350442\\\\\n",
       "\t zxziihanying  & 45631699 & 381356\\\\\n",
       "\t gongyun       & 44154872 & 321681\\\\\n",
       "\t quendil       & 43755416 & 438748\\\\\n",
       "\t baozhu001     & 41994186 & 372972\\\\\n",
       "\t kkndking      & 40051905 & 398651\\\\\n",
       "\t huha9999      & 35536058 & 488065\\\\\n",
       "\t aspid47       & 35414751 & 329093\\\\\n",
       "\t a87415661     & 35408884 & 352900\\\\\n",
       "\t z11285208     & 35334414 & 373506\\\\\n",
       "\t torabin       & 31262610 & 289692\\\\\n",
       "\t wswindy19811  & 30978269 & 409453\\\\\n",
       "\t obie36        & 30327652 & 399974\\\\\n",
       "\t daiyinjj      & 28197449 & 404412\\\\\n",
       "\t marketender   & 28093691 & 257598\\\\\n",
       "\t s2mm          & 27895468 & 253667\\\\\n",
       "\t wjsh2020      & 27040690 & 215192\\\\\n",
       "\t protosscarrie & 26777826 & 184319\\\\\n",
       "\t hsx330136     & 26541438 & 359505\\\\\n",
       "\t guanguanktv   & 25941346 & 405139\\\\\n",
       "\t lysd          & 25723581 & 330381\\\\\n",
       "\t holmes\\_eu     & 25558312 & 324596\\\\\n",
       "\t wangle2020    & 25545440 & 295892\\\\\n",
       "\t xylzhp        & 25225845 & 250301\\\\\n",
       "\t ded111        & 24884664 & 390078\\\\\n",
       "\t ... & ... & ...\\\\\n",
       "\t zhd717          & 0 & 0\\\\\n",
       "\t vector1         & 0 & 0\\\\\n",
       "\t byss            & 0 & 0\\\\\n",
       "\t hoppoushireikan & 0 & 0\\\\\n",
       "\t terryguillermo  & 0 & 0\\\\\n",
       "\t drift0013       & 0 & 0\\\\\n",
       "\t poker95         & 0 & 0\\\\\n",
       "\t shatian1234     & 0 & 0\\\\\n",
       "\t unosco          & 0 & 0\\\\\n",
       "\t liurengao       & 0 & 0\\\\\n",
       "\t burav4ik        & 0 & 0\\\\\n",
       "\t hccshuai        & 0 & 0\\\\\n",
       "\t georgeslacave70 & 0 & 0\\\\\n",
       "\t robbiemcd       & 0 & 0\\\\\n",
       "\t qi7777qi        & 0 & 0\\\\\n",
       "\t admin3350       & 0 & 0\\\\\n",
       "\t ezd101          & 0 & 0\\\\\n",
       "\t s012345         & 0 & 0\\\\\n",
       "\t meatball520     & 0 & 0\\\\\n",
       "\t dasbaum1991     & 0 & 0\\\\\n",
       "\t kennyhuang14    & 0 & 0\\\\\n",
       "\t satoshi1        & 0 & 0\\\\\n",
       "\t alicardo        & 0 & 0\\\\\n",
       "\t vagabond        & 0 & 0\\\\\n",
       "\t teessideluke    & 0 & 0\\\\\n",
       "\t mxychina        & 0 & 0\\\\\n",
       "\t cremolino       & 0 & 0\\\\\n",
       "\t gdi011          & 0 & 0\\\\\n",
       "\t nemo0981        & 0 & 0\\\\\n",
       "\t zc0526          & 0 & 0\\\\\n",
       "\\end{tabular}\n"
      ],
      "text/markdown": [
       "\n",
       "A data.frame: 2670 × 3\n",
       "\n",
       "| id &lt;chr&gt; | total_atk &lt;dbl&gt; | highest_atk &lt;dbl&gt; |\n",
       "|---|---|---|\n",
       "| pp12          | 85766686 | 420867 |\n",
       "| pashi001      | 70108862 | 384454 |\n",
       "| odmr1         | 59127993 | 386240 |\n",
       "| kp01          | 57952358 | 382669 |\n",
       "| linhai12      | 50832128 | 387042 |\n",
       "| zjtz000000    | 48273831 | 350442 |\n",
       "| zxziihanying  | 45631699 | 381356 |\n",
       "| gongyun       | 44154872 | 321681 |\n",
       "| quendil       | 43755416 | 438748 |\n",
       "| baozhu001     | 41994186 | 372972 |\n",
       "| kkndking      | 40051905 | 398651 |\n",
       "| huha9999      | 35536058 | 488065 |\n",
       "| aspid47       | 35414751 | 329093 |\n",
       "| a87415661     | 35408884 | 352900 |\n",
       "| z11285208     | 35334414 | 373506 |\n",
       "| torabin       | 31262610 | 289692 |\n",
       "| wswindy19811  | 30978269 | 409453 |\n",
       "| obie36        | 30327652 | 399974 |\n",
       "| daiyinjj      | 28197449 | 404412 |\n",
       "| marketender   | 28093691 | 257598 |\n",
       "| s2mm          | 27895468 | 253667 |\n",
       "| wjsh2020      | 27040690 | 215192 |\n",
       "| protosscarrie | 26777826 | 184319 |\n",
       "| hsx330136     | 26541438 | 359505 |\n",
       "| guanguanktv   | 25941346 | 405139 |\n",
       "| lysd          | 25723581 | 330381 |\n",
       "| holmes_eu     | 25558312 | 324596 |\n",
       "| wangle2020    | 25545440 | 295892 |\n",
       "| xylzhp        | 25225845 | 250301 |\n",
       "| ded111        | 24884664 | 390078 |\n",
       "| ... | ... | ... |\n",
       "| zhd717          | 0 | 0 |\n",
       "| vector1         | 0 | 0 |\n",
       "| byss            | 0 | 0 |\n",
       "| hoppoushireikan | 0 | 0 |\n",
       "| terryguillermo  | 0 | 0 |\n",
       "| drift0013       | 0 | 0 |\n",
       "| poker95         | 0 | 0 |\n",
       "| shatian1234     | 0 | 0 |\n",
       "| unosco          | 0 | 0 |\n",
       "| liurengao       | 0 | 0 |\n",
       "| burav4ik        | 0 | 0 |\n",
       "| hccshuai        | 0 | 0 |\n",
       "| georgeslacave70 | 0 | 0 |\n",
       "| robbiemcd       | 0 | 0 |\n",
       "| qi7777qi        | 0 | 0 |\n",
       "| admin3350       | 0 | 0 |\n",
       "| ezd101          | 0 | 0 |\n",
       "| s012345         | 0 | 0 |\n",
       "| meatball520     | 0 | 0 |\n",
       "| dasbaum1991     | 0 | 0 |\n",
       "| kennyhuang14    | 0 | 0 |\n",
       "| satoshi1        | 0 | 0 |\n",
       "| alicardo        | 0 | 0 |\n",
       "| vagabond        | 0 | 0 |\n",
       "| teessideluke    | 0 | 0 |\n",
       "| mxychina        | 0 | 0 |\n",
       "| cremolino       | 0 | 0 |\n",
       "| gdi011          | 0 | 0 |\n",
       "| nemo0981        | 0 | 0 |\n",
       "| zc0526          | 0 | 0 |\n",
       "\n"
      ],
      "text/plain": [
       "     id              total_atk highest_atk\n",
       "1    pp12            85766686  420867     \n",
       "2    pashi001        70108862  384454     \n",
       "3    odmr1           59127993  386240     \n",
       "4    kp01            57952358  382669     \n",
       "5    linhai12        50832128  387042     \n",
       "6    zjtz000000      48273831  350442     \n",
       "7    zxziihanying    45631699  381356     \n",
       "8    gongyun         44154872  321681     \n",
       "9    quendil         43755416  438748     \n",
       "10   baozhu001       41994186  372972     \n",
       "11   kkndking        40051905  398651     \n",
       "12   huha9999        35536058  488065     \n",
       "13   aspid47         35414751  329093     \n",
       "14   a87415661       35408884  352900     \n",
       "15   z11285208       35334414  373506     \n",
       "16   torabin         31262610  289692     \n",
       "17   wswindy19811    30978269  409453     \n",
       "18   obie36          30327652  399974     \n",
       "19   daiyinjj        28197449  404412     \n",
       "20   marketender     28093691  257598     \n",
       "21   s2mm            27895468  253667     \n",
       "22   wjsh2020        27040690  215192     \n",
       "23   protosscarrie   26777826  184319     \n",
       "24   hsx330136       26541438  359505     \n",
       "25   guanguanktv     25941346  405139     \n",
       "26   lysd            25723581  330381     \n",
       "27   holmes_eu       25558312  324596     \n",
       "28   wangle2020      25545440  295892     \n",
       "29   xylzhp          25225845  250301     \n",
       "30   ded111          24884664  390078     \n",
       "...  ...             ...       ...        \n",
       "2641 zhd717          0         0          \n",
       "2642 vector1         0         0          \n",
       "2643 byss            0         0          \n",
       "2644 hoppoushireikan 0         0          \n",
       "2645 terryguillermo  0         0          \n",
       "2646 drift0013       0         0          \n",
       "2647 poker95         0         0          \n",
       "2648 shatian1234     0         0          \n",
       "2649 unosco          0         0          \n",
       "2650 liurengao       0         0          \n",
       "2651 burav4ik        0         0          \n",
       "2652 hccshuai        0         0          \n",
       "2653 georgeslacave70 0         0          \n",
       "2654 robbiemcd       0         0          \n",
       "2655 qi7777qi        0         0          \n",
       "2656 admin3350       0         0          \n",
       "2657 ezd101          0         0          \n",
       "2658 s012345         0         0          \n",
       "2659 meatball520     0         0          \n",
       "2660 dasbaum1991     0         0          \n",
       "2661 kennyhuang14    0         0          \n",
       "2662 satoshi1        0         0          \n",
       "2663 alicardo        0         0          \n",
       "2664 vagabond        0         0          \n",
       "2665 teessideluke    0         0          \n",
       "2666 mxychina        0         0          \n",
       "2667 cremolino       0         0          \n",
       "2668 gdi011          0         0          \n",
       "2669 nemo0981        0         0          \n",
       "2670 zc0526          0         0          "
      ]
     },
     "metadata": {},
     "output_type": "display_data"
    }
   ],
   "source": [
    "print(nrow(season_12))\n",
    "season_12"
   ]
  },
  {
   "cell_type": "code",
   "execution_count": 60,
   "metadata": {},
   "outputs": [
    {
     "data": {
      "text/html": [
       "12"
      ],
      "text/latex": [
       "12"
      ],
      "text/markdown": [
       "12"
      ],
      "text/plain": [
       "[1] 12"
      ]
     },
     "metadata": {},
     "output_type": "display_data"
    }
   ],
   "source": [
    "cores"
   ]
  }
 ],
 "metadata": {
  "kernelspec": {
   "display_name": "R",
   "language": "R",
   "name": "ir"
  },
  "language_info": {
   "codemirror_mode": "r",
   "file_extension": ".r",
   "mimetype": "text/x-r-source",
   "name": "R",
   "pygments_lexer": "r",
   "version": "4.1.0"
  }
 },
 "nbformat": 4,
 "nbformat_minor": 4
}
