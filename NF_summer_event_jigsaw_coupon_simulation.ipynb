{
 "cells": [
  {
   "cell_type": "code",
   "execution_count": 1,
   "metadata": {},
   "outputs": [],
   "source": [
    "import random\n",
    "import math"
   ]
  },
  {
   "cell_type": "code",
   "execution_count": 2,
   "metadata": {},
   "outputs": [],
   "source": [
    "# simulation of getting the coupon\n",
    "pool = list(range(1,10))\n",
    "coupons = {'coupon_x1':[], 'coupon_x2':[], 'coupon_x3':[], 'coupon_x4':[], 'coupon_x5':[], 'coupon_x6':[], 'coupon_x7':[], \n",
    "           'coupon_x8':[], 'coupon_x9':[], 'coupon_x10':[]}"
   ]
  },
  {
   "cell_type": "code",
   "execution_count": 3,
   "metadata": {},
   "outputs": [],
   "source": [
    "k = 0\n",
    "while k < 10000:\n",
    "    s = []\n",
    "    buy = 0\n",
    "    ticket = 0\n",
    "    while ticket < 10:\n",
    "        if len(set(s)) < 9:\n",
    "            pick = random.sample(pool,1)\n",
    "            s.append(pick[0])\n",
    "            buy += 1\n",
    "        elif len(set(s)) == 9:\n",
    "            ticket += 1\n",
    "            varname = 'coupon_x' + str(ticket)\n",
    "            coupons[varname].append(buy)\n",
    "            [i for i in s if not i in pool or s.remove(i)]\n",
    "    k += 1"
   ]
  },
  {
   "cell_type": "code",
   "execution_count": 4,
   "metadata": {},
   "outputs": [],
   "source": [
    "def get_avg(z):\n",
    "    key_z = 'coupon_x' + str(z)\n",
    "    result = math.ceil(sum(coupons[key_z])/len(coupons[key_z]))\n",
    "    return result"
   ]
  },
  {
   "cell_type": "code",
   "execution_count": 5,
   "metadata": {},
   "outputs": [
    {
     "name": "stdout",
     "output_type": "stream",
     "text": [
      "平均而言, 如果你要拿到 1 张兑换券, 你会被大熊骗走 26 张毛爷爷\n",
      "平均而言, 如果你要拿到 2 张兑换券, 你会被大熊骗走 39 张毛爷爷\n",
      "平均而言, 如果你要拿到 3 张兑换券, 你会被大熊骗走 52 张毛爷爷\n",
      "平均而言, 如果你要拿到 4 张兑换券, 你会被大熊骗走 65 张毛爷爷\n",
      "平均而言, 如果你要拿到 5 张兑换券, 你会被大熊骗走 78 张毛爷爷\n",
      "平均而言, 如果你要拿到 6 张兑换券, 你会被大熊骗走 91 张毛爷爷\n",
      "平均而言, 如果你要拿到 7 张兑换券, 你会被大熊骗走 104 张毛爷爷\n",
      "平均而言, 如果你要拿到 8 张兑换券, 你会被大熊骗走 117 张毛爷爷\n",
      "平均而言, 如果你要拿到 9 张兑换券, 你会被大熊骗走 130 张毛爷爷\n",
      "平均而言, 如果你要拿到 10 张兑换券, 你会被大熊骗走 143 张毛爷爷\n"
     ]
    }
   ],
   "source": [
    "piao = list(range(1,11))\n",
    "for p in piao:\n",
    "    words = '平均而言, 如果你要拿到' + ' ' + str(p) + ' ' + '张兑换券, 你会被大熊骗走' + ' ' + str(get_avg(p)) + ' ' + '张毛爷爷'\n",
    "    print(words)"
   ]
  }
 ],
 "metadata": {
  "kernelspec": {
   "display_name": "Python 3",
   "language": "python",
   "name": "python3"
  },
  "language_info": {
   "codemirror_mode": {
    "name": "ipython",
    "version": 3
   },
   "file_extension": ".py",
   "mimetype": "text/x-python",
   "name": "python",
   "nbconvert_exporter": "python",
   "pygments_lexer": "ipython3",
   "version": "3.9.0"
  }
 },
 "nbformat": 4,
 "nbformat_minor": 4
}
