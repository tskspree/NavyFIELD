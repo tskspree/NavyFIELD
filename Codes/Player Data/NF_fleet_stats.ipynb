{
 "cells": [
  {
   "cell_type": "code",
   "execution_count": null,
   "metadata": {},
   "outputs": [],
   "source": [
    "library(RSQLite)\n",
    "library(DT)\n",
    "library(scales)\n",
    "library(stringr)\n",
    "Sys.setlocale(\"LC_CTYPE\", locale=\"Chinese\")"
   ]
  },
  {
   "cell_type": "code",
   "execution_count": null,
   "metadata": {},
   "outputs": [],
   "source": [
    "con <- dbConnect(SQLite(), \"NF_player_data.db\")\n",
    "player_tables <- dbListTables(con)[str_detect(dbListTables(con), 'NF')]\n",
    "player_data <- player_tables[length(player_tables)]"
   ]
  },
  {
   "cell_type": "code",
   "execution_count": null,
   "metadata": {},
   "outputs": [],
   "source": [
    "nf_data <- dbReadTable(con, player_data)"
   ]
  },
  {
   "cell_type": "code",
   "execution_count": null,
   "metadata": {},
   "outputs": [],
   "source": [
    "# See results\n",
    "substrRight <- function(x, n){\n",
    "  as.numeric(substr(x, nchar(x)-n+1, nchar(x)))\n",
    "}\n",
    "\n",
    "substrLeft <- function(x, n){\n",
    "  as.numeric(substr(x, 1, n))\n",
    "}\n",
    "\n",
    "today <- as.character(Sys.Date())\n",
    "current_year <- as.numeric(substr(today,1,4))\n",
    "current_month <- as.numeric(substr(today,6,7))\n",
    "\n",
    "last_three_months <- function(m,y){\n",
    "    if (m < 4) {\n",
    "        a = m + 9\n",
    "        b = y - 1\n",
    "    }\n",
    "    else if (m > 3) {\n",
    "        a = m - 3\n",
    "        b = y\n",
    "    }\n",
    "    return(c(a,b))\n",
    "}\n",
    "\n",
    "fleet_power <- function(fleet_name){\n",
    "    fleet_data <- subset(nf_data, fleet==fleet_name)\n",
    "    attach(fleet_data)\n",
    "    fleet_best <- fleet_data[order(-win_rate),]\n",
    "    fleet_best$win_rate <- percent(fleet_best$win_rate, accuracy = 0.1)\n",
    "    detach(fleet_data)\n",
    "    if (current_month > 3){\n",
    "        result <-head(subset(fleet_best,battles > 5000 & substrRight(fleet_best$activity,4)==last_three_months(current_month,current_year)[2] & substrLeft(fleet_best$activity,2)>last_three_months(current_month,current_year)[1]),60)\n",
    "        colnames(result) <- c('账号','胜场数','总场数','舰队','小队','最后登录','胜率')\n",
    "        return(datatable(result, options = list(pageLength = 15)))\n",
    "    } else if (current_month < 4){\n",
    "        return(head(subset(fleet_best,battles > 5000 & \n",
    "                           (substrRight(fleet_best$activity,4)>last_three_months(current_month,current_year)[2] | \n",
    "                           (substrRight(fleet_best$activity,4)==last_three_months(current_month,current_year)[2] & substrLeft(fleet_best$activity,2)>=last_three_months(current_month,current_year)[1])\n",
    "                           )\n",
    "                          ),60))\n",
    "    }  \n",
    "}"
   ]
  },
  {
   "cell_type": "code",
   "execution_count": null,
   "metadata": {},
   "outputs": [],
   "source": [
    "#as.list(unique(nf_data['squad']))"
   ]
  },
  {
   "cell_type": "code",
   "execution_count": null,
   "metadata": {},
   "outputs": [],
   "source": [
    "lengths(as.list(unique(nf_data['fleet'])))"
   ]
  },
  {
   "cell_type": "code",
   "execution_count": null,
   "metadata": {},
   "outputs": [],
   "source": [
    "as.list(unique(nf_data['fleet']))"
   ]
  },
  {
   "cell_type": "code",
   "execution_count": null,
   "metadata": {},
   "outputs": [],
   "source": [
    "# 因为拔线而被永久除名\n",
    "# BAMF\n",
    "bamf_banlist <- c('huskie', 'bigpappason', 'charizard97', 'hawk010')\n",
    "# RA\n",
    "ra_banlist <- c('nuke666', 'osn3179')\n",
    "# TPB\n",
    "tpb_banlist <- c('pr_ingress', 'ded111', 'portunus', 'schoko', 'y4427')\n",
    "# 海风舰队\n",
    "hf_banlist <- c('yyss2221', 'lysd', 'ys2221')\n",
    "# 中华联合舰队\n",
    "zl_banlist <- c('berserker120')\n",
    "# 尖刀连\n",
    "jdl_banlist <- c('zousx')\n",
    "# Others\n",
    "other_banlist <- c('jedizorro', 'joooooo', 'baozi77', 'josuuu', 'laopu', 'alfa8c2300')"
   ]
  },
  {
   "cell_type": "code",
   "execution_count": null,
   "metadata": {},
   "outputs": [],
   "source": [
    "banlist <- c(bamf_banlist, ra_banlist, tpb_banlist, hf_banlist, zl_banlist, jdl_banlist, other_banlist)\n",
    "nf_data <- subset(nf_data, !(id %in% banlist))"
   ]
  },
  {
   "cell_type": "code",
   "execution_count": null,
   "metadata": {},
   "outputs": [],
   "source": [
    "# 流浪汉\n",
    "fleet_power('-')"
   ]
  },
  {
   "cell_type": "code",
   "execution_count": null,
   "metadata": {},
   "outputs": [],
   "source": [
    "# 深海舰队\n",
    "fleet_power('深海舰队')"
   ]
  },
  {
   "cell_type": "code",
   "execution_count": null,
   "metadata": {},
   "outputs": [],
   "source": [
    "# 帝国天雷舰队\n",
    "fleet_power('帝国天雷舰队')"
   ]
  },
  {
   "cell_type": "code",
   "execution_count": null,
   "metadata": {},
   "outputs": [],
   "source": [
    "# =中国蓝=\n",
    "fleet_power('=中国蓝=')"
   ]
  },
  {
   "cell_type": "code",
   "execution_count": null,
   "metadata": {},
   "outputs": [],
   "source": [
    "# 皇家零零七\n",
    "fleet_power('皇家零零七')"
   ]
  },
  {
   "cell_type": "code",
   "execution_count": null,
   "metadata": {},
   "outputs": [],
   "source": [
    "# 兄弟盟\n",
    "fleet_power('兄弟盟')"
   ]
  },
  {
   "cell_type": "code",
   "execution_count": null,
   "metadata": {},
   "outputs": [],
   "source": [
    "# 名將堂舰队\n",
    "fleet_power('名將堂舰队')"
   ]
  },
  {
   "cell_type": "code",
   "execution_count": null,
   "metadata": {},
   "outputs": [],
   "source": [
    "# 拆迁办\n",
    "fleet_power('拆迁办')"
   ]
  },
  {
   "cell_type": "code",
   "execution_count": null,
   "metadata": {},
   "outputs": [],
   "source": [
    "# 尖刀连\n",
    "fleet_power('尖刀连')"
   ]
  },
  {
   "cell_type": "code",
   "execution_count": null,
   "metadata": {},
   "outputs": [],
   "source": [
    "# TGF\n",
    "fleet_power('Dango Daikazoku')"
   ]
  },
  {
   "cell_type": "code",
   "execution_count": null,
   "metadata": {},
   "outputs": [],
   "source": [
    "# 深海纵队\n",
    "fleet_power('深海纵队')"
   ]
  },
  {
   "cell_type": "code",
   "execution_count": null,
   "metadata": {},
   "outputs": [],
   "source": [
    "# ARMADA CHILENA\n",
    "fleet_power('ARMADA CHILENA')"
   ]
  },
  {
   "cell_type": "code",
   "execution_count": null,
   "metadata": {},
   "outputs": [],
   "source": [
    "# 中国蓝舰队\n",
    "fleet_power('中国蓝舰队')"
   ]
  },
  {
   "cell_type": "code",
   "execution_count": null,
   "metadata": {},
   "outputs": [],
   "source": [
    "# C.O.H.\n",
    "fleet_power('C.O.H.')"
   ]
  },
  {
   "cell_type": "code",
   "execution_count": null,
   "metadata": {},
   "outputs": [],
   "source": [
    "# M.F Fleet\n",
    "fleet_power('M.F Fleet')"
   ]
  },
  {
   "cell_type": "code",
   "execution_count": null,
   "metadata": {},
   "outputs": [],
   "source": [
    "# 中华联合舰队\n",
    "fleet_power('中华联合舰队')"
   ]
  },
  {
   "cell_type": "code",
   "execution_count": null,
   "metadata": {},
   "outputs": [],
   "source": [
    "# 海风舰队\n",
    "fleet_power('海风舰队')"
   ]
  },
  {
   "cell_type": "code",
   "execution_count": null,
   "metadata": {},
   "outputs": [],
   "source": [
    "# Flota Chile\n",
    "fleet_power('Flota Chile')"
   ]
  },
  {
   "cell_type": "code",
   "execution_count": null,
   "metadata": {},
   "outputs": [],
   "source": [
    "# Flota Peruana\n",
    "fleet_power('Flota Peruana')"
   ]
  },
  {
   "cell_type": "code",
   "execution_count": null,
   "metadata": {},
   "outputs": [],
   "source": [
    "# Armored Angels\n",
    "fleet_power('Armored Angels')"
   ]
  },
  {
   "cell_type": "code",
   "execution_count": null,
   "metadata": {},
   "outputs": [],
   "source": [
    "# 新荣誉\n",
    "fleet_power('新荣誉')"
   ]
  },
  {
   "cell_type": "code",
   "execution_count": null,
   "metadata": {},
   "outputs": [],
   "source": [
    "# Armada Argentina\n",
    "fleet_power('Armada Argentina')"
   ]
  },
  {
   "cell_type": "code",
   "execution_count": null,
   "metadata": {},
   "outputs": [],
   "source": [
    "# Imperium\n",
    "fleet_power('Imperium')"
   ]
  },
  {
   "cell_type": "code",
   "execution_count": null,
   "metadata": {},
   "outputs": [],
   "source": [
    "# TEAM PRO BOTS\n",
    "fleet_power('TEAM PRO BOTS')"
   ]
  },
  {
   "cell_type": "code",
   "execution_count": null,
   "metadata": {},
   "outputs": [],
   "source": [
    "# Ostseepiraten\n",
    "fleet_power('Ostseepiraten')"
   ]
  },
  {
   "cell_type": "code",
   "execution_count": null,
   "metadata": {},
   "outputs": [],
   "source": [
    "# HELL BOYS\n",
    "fleet_power('HELL BOYS')"
   ]
  },
  {
   "cell_type": "code",
   "execution_count": null,
   "metadata": {},
   "outputs": [],
   "source": [
    "# 兔子.CHN.\n",
    "fleet_power('兔子.CHN.')"
   ]
  },
  {
   "cell_type": "code",
   "execution_count": null,
   "metadata": {},
   "outputs": [],
   "source": [
    "# Russian Alliance\n",
    "fleet_power('Russian Alliance')"
   ]
  },
  {
   "cell_type": "code",
   "execution_count": null,
   "metadata": {},
   "outputs": [],
   "source": [
    "# BAMF FLEET\n",
    "fleet_power('BAMF FLEET')"
   ]
  }
 ],
 "metadata": {
  "kernelspec": {
   "display_name": "R",
   "language": "R",
   "name": "ir"
  },
  "language_info": {
   "codemirror_mode": "r",
   "file_extension": ".r",
   "mimetype": "text/x-r-source",
   "name": "R",
   "pygments_lexer": "r",
   "version": "4.1.0"
  }
 },
 "nbformat": 4,
 "nbformat_minor": 4
}
