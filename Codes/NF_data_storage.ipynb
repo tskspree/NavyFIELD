{
 "cells": [
  {
   "cell_type": "code",
   "execution_count": 1,
   "metadata": {},
   "outputs": [],
   "source": [
    "import sqlite3 as sql\n",
    "import pandas"
   ]
  },
  {
   "cell_type": "code",
   "execution_count": 2,
   "metadata": {},
   "outputs": [],
   "source": [
    "# connect to database\n",
    "conn = sql.connect('NF_player_data.db')"
   ]
  },
  {
   "cell_type": "code",
   "execution_count": 3,
   "metadata": {},
   "outputs": [
    {
     "name": "stdout",
     "output_type": "stream",
     "text": [
      "NF_player_09152021\n"
     ]
    }
   ],
   "source": [
    "nf_data = pandas.read_csv('C:/Users/Felix/Box Sync/UW/R/nf.csv')\n",
    "# Example: NF_player_07072021\n",
    "table_name = input()"
   ]
  },
  {
   "cell_type": "code",
   "execution_count": 4,
   "metadata": {},
   "outputs": [],
   "source": [
    "# store data\n",
    "nf_data.to_sql(table_name, conn, if_exists = 'replace', index = False)"
   ]
  },
  {
   "cell_type": "code",
   "execution_count": 3,
   "metadata": {},
   "outputs": [],
   "source": [
    "# firepower season 12 data store\n",
    "season_12 = pandas.read_csv('C:/Users/Felix/Box Sync/UW/R/firepower_season12.csv')\n",
    "season_12['highest_atk'] = season_12['highest_atk'].astype('int')\n",
    "season_12.to_sql('firepower_season12', conn, if_exists = 'replace', index = False)"
   ]
  },
  {
   "cell_type": "code",
   "execution_count": 4,
   "metadata": {},
   "outputs": [
    {
     "data": {
      "text/html": [
       "<div>\n",
       "<style scoped>\n",
       "    .dataframe tbody tr th:only-of-type {\n",
       "        vertical-align: middle;\n",
       "    }\n",
       "\n",
       "    .dataframe tbody tr th {\n",
       "        vertical-align: top;\n",
       "    }\n",
       "\n",
       "    .dataframe thead th {\n",
       "        text-align: right;\n",
       "    }\n",
       "</style>\n",
       "<table border=\"1\" class=\"dataframe\">\n",
       "  <thead>\n",
       "    <tr style=\"text-align: right;\">\n",
       "      <th></th>\n",
       "      <th>id</th>\n",
       "      <th>total_atk</th>\n",
       "      <th>highest_atk</th>\n",
       "    </tr>\n",
       "  </thead>\n",
       "  <tbody>\n",
       "    <tr>\n",
       "      <th>0</th>\n",
       "      <td>pp12</td>\n",
       "      <td>192980859</td>\n",
       "      <td>455768</td>\n",
       "    </tr>\n",
       "    <tr>\n",
       "      <th>1</th>\n",
       "      <td>odmr1</td>\n",
       "      <td>179112155</td>\n",
       "      <td>417525</td>\n",
       "    </tr>\n",
       "    <tr>\n",
       "      <th>2</th>\n",
       "      <td>pashi001</td>\n",
       "      <td>138416557</td>\n",
       "      <td>479787</td>\n",
       "    </tr>\n",
       "    <tr>\n",
       "      <th>3</th>\n",
       "      <td>kp01</td>\n",
       "      <td>136350004</td>\n",
       "      <td>391438</td>\n",
       "    </tr>\n",
       "    <tr>\n",
       "      <th>4</th>\n",
       "      <td>linhai12</td>\n",
       "      <td>134573288</td>\n",
       "      <td>387042</td>\n",
       "    </tr>\n",
       "    <tr>\n",
       "      <th>5</th>\n",
       "      <td>a87415661</td>\n",
       "      <td>101765882</td>\n",
       "      <td>352900</td>\n",
       "    </tr>\n",
       "    <tr>\n",
       "      <th>6</th>\n",
       "      <td>zjtz000000</td>\n",
       "      <td>97338715</td>\n",
       "      <td>371640</td>\n",
       "    </tr>\n",
       "    <tr>\n",
       "      <th>7</th>\n",
       "      <td>huha9999</td>\n",
       "      <td>94826029</td>\n",
       "      <td>488065</td>\n",
       "    </tr>\n",
       "    <tr>\n",
       "      <th>8</th>\n",
       "      <td>zxziihanying</td>\n",
       "      <td>92705484</td>\n",
       "      <td>424554</td>\n",
       "    </tr>\n",
       "    <tr>\n",
       "      <th>9</th>\n",
       "      <td>gongyun</td>\n",
       "      <td>81854701</td>\n",
       "      <td>385682</td>\n",
       "    </tr>\n",
       "  </tbody>\n",
       "</table>\n",
       "</div>"
      ],
      "text/plain": [
       "             id  total_atk  highest_atk\n",
       "0          pp12  192980859       455768\n",
       "1         odmr1  179112155       417525\n",
       "2      pashi001  138416557       479787\n",
       "3          kp01  136350004       391438\n",
       "4      linhai12  134573288       387042\n",
       "5     a87415661  101765882       352900\n",
       "6    zjtz000000   97338715       371640\n",
       "7      huha9999   94826029       488065\n",
       "8  zxziihanying   92705484       424554\n",
       "9       gongyun   81854701       385682"
      ]
     },
     "execution_count": 4,
     "metadata": {},
     "output_type": "execute_result"
    }
   ],
   "source": [
    "season_12.head(10)"
   ]
  },
  {
   "cell_type": "code",
   "execution_count": 4,
   "metadata": {},
   "outputs": [
    {
     "data": {
      "text/plain": [
       "<sqlite3.Cursor at 0x1b8e392f960>"
      ]
     },
     "execution_count": 4,
     "metadata": {},
     "output_type": "execute_result"
    }
   ],
   "source": [
    "# Rename tables if necessary\n",
    "#cursor = conn.cursor()\n",
    "#renameTable = \"ALTER TABLE NF_player_07282021 RENAME TO NF_player_07262021\"\n",
    "#cursor.execute(renameTable)"
   ]
  }
 ],
 "metadata": {
  "kernelspec": {
   "display_name": "Python 3",
   "language": "python",
   "name": "python3"
  },
  "language_info": {
   "codemirror_mode": {
    "name": "ipython",
    "version": 3
   },
   "file_extension": ".py",
   "mimetype": "text/x-python",
   "name": "python",
   "nbconvert_exporter": "python",
   "pygments_lexer": "ipython3",
   "version": "3.9.0"
  }
 },
 "nbformat": 4,
 "nbformat_minor": 4
}
