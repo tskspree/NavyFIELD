{
 "cells": [
  {
   "cell_type": "code",
   "execution_count": 1,
   "metadata": {},
   "outputs": [],
   "source": [
    "import random\n",
    "import math\n",
    "from collections import Counter"
   ]
  },
  {
   "cell_type": "code",
   "execution_count": 2,
   "metadata": {},
   "outputs": [
    {
     "name": "stdout",
     "output_type": "stream",
     "text": [
      "20\n"
     ]
    }
   ],
   "source": [
    "# How many tickets are you targeting?\n",
    "t = input()"
   ]
  },
  {
   "cell_type": "code",
   "execution_count": 3,
   "metadata": {},
   "outputs": [],
   "source": [
    "# Simulation of getting the coupon\n",
    "pool = list(range(1,10))\n",
    "coupons = {}\n",
    "book = int(t) + 1\n",
    "for c in range(1, book):\n",
    "    t_name = 'coupon_x' + str(c)\n",
    "    coupons[t_name] = []"
   ]
  },
  {
   "cell_type": "code",
   "execution_count": 4,
   "metadata": {},
   "outputs": [],
   "source": [
    "def redeem(x,y):\n",
    "    remaining = Counter(y)\n",
    "    out = []\n",
    "    for val in x:\n",
    "        if remaining[val]:\n",
    "            remaining[val] -= 1\n",
    "        else:\n",
    "            out.append(val)\n",
    "    return out"
   ]
  },
  {
   "cell_type": "code",
   "execution_count": 5,
   "metadata": {},
   "outputs": [],
   "source": [
    "k = 0\n",
    "while k < 10000:\n",
    "    s = []\n",
    "    buy = 0\n",
    "    ticket = 0\n",
    "    while ticket < int(t):\n",
    "        if len(set(s)) < 9:\n",
    "            pick = random.sample(pool,1)\n",
    "            s.append(pick[0])\n",
    "            buy += 1\n",
    "        elif len(set(s)) == 9:\n",
    "            ticket += 1\n",
    "            varname = 'coupon_x' + str(ticket)\n",
    "            coupons[varname].append(buy)\n",
    "            s = redeem(s,pool)\n",
    "    k += 1"
   ]
  },
  {
   "cell_type": "code",
   "execution_count": 6,
   "metadata": {},
   "outputs": [],
   "source": [
    "def get_avg(z):\n",
    "    key_z = 'coupon_x' + str(z)\n",
    "    result = math.ceil(sum(coupons[key_z])/len(coupons[key_z]))\n",
    "    return result"
   ]
  },
  {
   "cell_type": "code",
   "execution_count": 7,
   "metadata": {},
   "outputs": [
    {
     "name": "stdout",
     "output_type": "stream",
     "text": [
      "平均而言, 如果你要拿到 1 张兑换券, 你会被大熊骗走 26 张毛爷爷\n",
      "平均而言, 如果你要拿到 2 张兑换券, 你会被大熊骗走 41 张毛爷爷\n",
      "平均而言, 如果你要拿到 3 张兑换券, 你会被大熊骗走 55 张毛爷爷\n",
      "平均而言, 如果你要拿到 4 张兑换券, 你会被大熊骗走 67 张毛爷爷\n",
      "平均而言, 如果你要拿到 5 张兑换券, 你会被大熊骗走 79 张毛爷爷\n",
      "平均而言, 如果你要拿到 6 张兑换券, 你会被大熊骗走 91 张毛爷爷\n",
      "平均而言, 如果你要拿到 7 张兑换券, 你会被大熊骗走 103 张毛爷爷\n",
      "平均而言, 如果你要拿到 8 张兑换券, 你会被大熊骗走 115 张毛爷爷\n",
      "平均而言, 如果你要拿到 9 张兑换券, 你会被大熊骗走 126 张毛爷爷\n",
      "平均而言, 如果你要拿到 10 张兑换券, 你会被大熊骗走 137 张毛爷爷\n",
      "平均而言, 如果你要拿到 11 张兑换券, 你会被大熊骗走 148 张毛爷爷\n",
      "平均而言, 如果你要拿到 12 张兑换券, 你会被大熊骗走 159 张毛爷爷\n",
      "平均而言, 如果你要拿到 13 张兑换券, 你会被大熊骗走 170 张毛爷爷\n",
      "平均而言, 如果你要拿到 14 张兑换券, 你会被大熊骗走 181 张毛爷爷\n",
      "平均而言, 如果你要拿到 15 张兑换券, 你会被大熊骗走 192 张毛爷爷\n",
      "平均而言, 如果你要拿到 16 张兑换券, 你会被大熊骗走 202 张毛爷爷\n",
      "平均而言, 如果你要拿到 17 张兑换券, 你会被大熊骗走 213 张毛爷爷\n",
      "平均而言, 如果你要拿到 18 张兑换券, 你会被大熊骗走 224 张毛爷爷\n",
      "平均而言, 如果你要拿到 19 张兑换券, 你会被大熊骗走 234 张毛爷爷\n",
      "平均而言, 如果你要拿到 20 张兑换券, 你会被大熊骗走 245 张毛爷爷\n"
     ]
    }
   ],
   "source": [
    "piao = list(range(1,book))\n",
    "for p in piao:\n",
    "    words = '平均而言, 如果你要拿到' + ' ' + str(p) + ' ' + '张兑换券, 你会被大熊骗走' + ' ' + str(get_avg(p)) + ' ' + '张毛爷爷'\n",
    "    print(words)"
   ]
  },
  {
   "cell_type": "code",
   "execution_count": 10,
   "metadata": {},
   "outputs": [
    {
     "name": "stdout",
     "output_type": "stream",
     "text": [
      "On average, to get 1 complete puzzles, you need to charge 2600 RMB\n",
      "On average, to get 2 complete puzzles, you need to charge 4100 RMB\n",
      "On average, to get 3 complete puzzles, you need to charge 5500 RMB\n",
      "On average, to get 4 complete puzzles, you need to charge 6700 RMB\n",
      "On average, to get 5 complete puzzles, you need to charge 7900 RMB\n",
      "On average, to get 6 complete puzzles, you need to charge 9100 RMB\n",
      "On average, to get 7 complete puzzles, you need to charge 10300 RMB\n",
      "On average, to get 8 complete puzzles, you need to charge 11500 RMB\n",
      "On average, to get 9 complete puzzles, you need to charge 12600 RMB\n",
      "On average, to get 10 complete puzzles, you need to charge 13700 RMB\n",
      "On average, to get 11 complete puzzles, you need to charge 14800 RMB\n",
      "On average, to get 12 complete puzzles, you need to charge 15900 RMB\n",
      "On average, to get 13 complete puzzles, you need to charge 17000 RMB\n",
      "On average, to get 14 complete puzzles, you need to charge 18100 RMB\n",
      "On average, to get 15 complete puzzles, you need to charge 19200 RMB\n",
      "On average, to get 16 complete puzzles, you need to charge 20200 RMB\n",
      "On average, to get 17 complete puzzles, you need to charge 21300 RMB\n",
      "On average, to get 18 complete puzzles, you need to charge 22400 RMB\n",
      "On average, to get 19 complete puzzles, you need to charge 23400 RMB\n",
      "On average, to get 20 complete puzzles, you need to charge 24500 RMB\n"
     ]
    }
   ],
   "source": [
    "for q in piao:\n",
    "    words = 'On average, to get ' + str(q) + ' complete puzzles, you need to charge ' + str(100*get_avg(q)) + ' RMB'\n",
    "    print(words)"
   ]
  }
 ],
 "metadata": {
  "kernelspec": {
   "display_name": "Python 3",
   "language": "python",
   "name": "python3"
  },
  "language_info": {
   "codemirror_mode": {
    "name": "ipython",
    "version": 3
   },
   "file_extension": ".py",
   "mimetype": "text/x-python",
   "name": "python",
   "nbconvert_exporter": "python",
   "pygments_lexer": "ipython3",
   "version": "3.9.0"
  }
 },
 "nbformat": 4,
 "nbformat_minor": 4
}
